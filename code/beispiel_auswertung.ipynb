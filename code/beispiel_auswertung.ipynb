{
 "cells": [
  {
   "cell_type": "markdown",
   "metadata": {},
   "source": [
    "# Beispiel Auswertung\n",
    "### Daten: Gruppe von Erik, Fung, Isa\n",
    "\n",
    "### Seminar "
   ]
  },
  {
   "cell_type": "code",
   "execution_count": 122,
   "metadata": {
    "scrolled": true
   },
   "outputs": [],
   "source": [
    "import pandas as pd    # module to work with data in DataFrames.\n",
    "import seaborn as sns  # module to plot DataFrames in an easy way\n",
    "import matplotlib.pyplot as plt\n",
    "from os import walk"
   ]
  },
  {
   "cell_type": "code",
   "execution_count": 123,
   "metadata": {},
   "outputs": [],
   "source": [
    "# seaborn comes with default presets (called 'contents') for figure's aesthetics, \n",
    "# such as the font size, figure size etc. \n",
    "sns.set_context('talk') # try: 'talk', 'poster', 'notebook'"
   ]
  },
  {
   "cell_type": "code",
   "execution_count": 125,
   "metadata": {},
   "outputs": [
    {
     "data": {
      "text/plain": [
       "{'Person 1': [7],\n",
       " 'Person 2': [7],\n",
       " 'Person 3': [7],\n",
       " 'Person 4': [5],\n",
       " 'Person 6': [3, 4, 8, 10],\n",
       " 'Person 7': [3, 4, 7, 8],\n",
       " 'Person 8': [3, 4, 6, 8, 9, 10, 11],\n",
       " 'Person 9': [1, 3, 4, 6, 8, 10, 11],\n",
       " 'Person 10': [1, 2, 3, 4, 5, 6, 7, 8, 9, 9, 10, 11],\n",
       " 'Person 11': [1, 4],\n",
       " 'Person 12': [5, 10],\n",
       " 'Person 13': [10],\n",
       " 'Person 14': [9, 10],\n",
       " 'Person 15': [4, 10]}"
      ]
     },
     "execution_count": 125,
     "metadata": {},
     "output_type": "execute_result"
    }
   ],
   "source": [
    "# we read the data\n",
    "#df = pd.read_csv('results/experiment_1_phase_1.csv')\n",
    "paths = ['results/', 'results/erik/', 'results/fung/']\n",
    "df = None\n",
    "df2 = None\n",
    "count = 1\n",
    "count2 = 1\n",
    "for path in paths:\n",
    "    \n",
    "    _, _, filenames = next(walk(path), (None, None, []))\n",
    "\n",
    "    #filenames = [ a for a in filenames if 'phase_1' in a]\n",
    "    #filenames2 = [ a for a in filenames if 'phase_2' in a]\n",
    "\n",
    "    for f in filenames:\n",
    "        \n",
    "        dft = None\n",
    "        countt = 1\n",
    "        if 'phase_1' in f:\n",
    "            dft = pd.read_csv(path+f)\n",
    "            dft['observer'] = 'Person '+str(count)\n",
    "            count += 1\n",
    "            if dft is None:\n",
    "                df = dft\n",
    "            else:\n",
    "                df = pd.concat((df, dft)) \n",
    "        elif 'phase_2' in f:\n",
    "            dft = pd.read_csv(path+f)\n",
    "            dft['observer'] = 'Person '+str(count2)\n",
    "            count2 += 1\n",
    "            if dft is None:\n",
    "                df2 = dft\n",
    "            else:\n",
    "                df2 = pd.concat((df2, dft)) \n",
    "        else:\n",
    "            continue\n",
    "        \n",
    "    \n",
    "dfo = df.copy()\n",
    "df['img_type'] = df['img_type'].replace(0, 'abstoßend')\n",
    "df['img_type'] = df['img_type'].replace(1, 'anziehend')\n",
    "df['distortion_type'] = df['distortion_type'].replace(0, 'blur')\n",
    "df['distortion_type'] = df['distortion_type'].replace(1, 'compression')\n",
    "a = len(df['distortion_degree'].unique())\n",
    "for i in range(int(a/2)):\n",
    "    df['distortion_degree'] = df['distortion_degree'].replace(i+1, 'placeholder')\n",
    "    df['distortion_degree'] = df['distortion_degree'].replace(a-i, i+1)\n",
    "    df['distortion_degree'] = df['distortion_degree'].replace('placeholder',a-i)\n",
    "# if we have more observers we could read their files, assign the column observer \n",
    "# with their name, and concatenate the DataFrames with pd.concat(). Example:\n",
    "#df1 = pd.read_csv('results/experiment_1_phase_1.csv')\n",
    "#df1['observer'] = 'Person1'      # creates a new column called 'observer'\n",
    "#df2 = pd.read_csv('results/experiment_2_phase_1.csv') # reads second file\n",
    "#df2['observer'] = 'Person2'     \n",
    "#df = pd.concat((df1, df2))        # concatenates both dataframes in one\n",
    "dfo = df.copy()\n",
    "ex = {}\n",
    "for index, da in df2.iterrows():\n",
    "    if da.response == 2 or (da.img_type == 0 and da.response != 1) or (da.img_type == 1 and da.response != 3):\n",
    "        #print(da)\n",
    "        #print(da.observer in ex)\n",
    "        \n",
    "        if da.observer not in ex:\n",
    "            ex[da.observer] = [da.img_num]\n",
    "        else: \n",
    "            ex[da.observer].append(da.img_num)\n",
    "\n",
    "for key, value in ex.items():\n",
    "    value.sort()\n",
    "    for num in value:\n",
    "        dfo = dfo[(dfo.observer != key) | (dfo.img_num != num)]\n",
    "\n",
    "ex"
   ]
  },
  {
   "cell_type": "code",
   "execution_count": 126,
   "metadata": {},
   "outputs": [
    {
     "name": "stdout",
     "output_type": "stream",
     "text": [
      "    img_num  img_type  response   observer\n",
      "0        10         1         3   Person 1\n",
      "1         7         1         2   Person 1\n",
      "2         2         0         1   Person 1\n",
      "3        10         0         1   Person 1\n",
      "4         1         0         1   Person 1\n",
      "..      ...       ...       ...        ...\n",
      "17        7         1         3  Person 15\n",
      "18        9         0         1  Person 15\n",
      "19        2         0         1  Person 15\n",
      "20        5         1         3  Person 15\n",
      "21        3         0         1  Person 15\n",
      "\n",
      "[330 rows x 4 columns]\n",
      "     img_num   img_type distortion_type  distortion_degree  response  \\\n",
      "0         11  anziehend            blur                  3         4   \n",
      "1          5  anziehend            blur                  3         4   \n",
      "2          9  anziehend            blur                  1         5   \n",
      "3          3  abstoßend            blur                  2         4   \n",
      "4          7  anziehend            blur                  3         3   \n",
      "..       ...        ...             ...                ...       ...   \n",
      "215       10  abstoßend     compression                  5         1   \n",
      "216        1  abstoßend            blur                  4         3   \n",
      "217        3  anziehend            blur                  3         2   \n",
      "218        9  abstoßend            blur                  2         2   \n",
      "219        1  anziehend            blur                  5         3   \n",
      "\n",
      "      observer  \n",
      "0     Person 1  \n",
      "1     Person 1  \n",
      "2     Person 1  \n",
      "3     Person 1  \n",
      "4     Person 1  \n",
      "..         ...  \n",
      "215  Person 15  \n",
      "216  Person 15  \n",
      "217  Person 15  \n",
      "218  Person 15  \n",
      "219  Person 15  \n",
      "\n",
      "[3300 rows x 6 columns]\n",
      "     img_num   img_type distortion_type  distortion_degree  response  \\\n",
      "0         11  anziehend            blur                  3         4   \n",
      "1          5  anziehend            blur                  3         4   \n",
      "2          9  anziehend            blur                  1         5   \n",
      "3          3  abstoßend            blur                  2         4   \n",
      "5          5  abstoßend     compression                  4         2   \n",
      "..       ...        ...             ...                ...       ...   \n",
      "214       11  anziehend     compression                  4         3   \n",
      "216        1  abstoßend            blur                  4         3   \n",
      "217        3  anziehend            blur                  3         2   \n",
      "218        9  abstoßend            blur                  2         2   \n",
      "219        1  anziehend            blur                  5         3   \n",
      "\n",
      "      observer  \n",
      "0     Person 1  \n",
      "1     Person 1  \n",
      "2     Person 1  \n",
      "3     Person 1  \n",
      "5     Person 1  \n",
      "..         ...  \n",
      "214  Person 15  \n",
      "216  Person 15  \n",
      "217  Person 15  \n",
      "218  Person 15  \n",
      "219  Person 15  \n",
      "\n",
      "[2380 rows x 6 columns]\n"
     ]
    }
   ],
   "source": [
    "# explore the first entries in your data\n",
    "print(df2)\n",
    "print(df)\n",
    "print(dfo)\n"
   ]
  },
  {
   "cell_type": "code",
   "execution_count": 84,
   "metadata": {},
   "outputs": [
    {
     "name": "stdout",
     "output_type": "stream",
     "text": [
      "[ 1  2  3  4  5  6  7  8  9 10 11]\n"
     ]
    }
   ],
   "source": [
    "# sanity checks: how many groups do you expect per categorical variable?\n",
    "# in these data we expect :\n",
    "# 5 different k values\n",
    "p = df['img_num'].unique()\n",
    "p.sort()\n",
    "print(p)"
   ]
  },
  {
   "cell_type": "code",
   "execution_count": 85,
   "metadata": {},
   "outputs": [
    {
     "name": "stdout",
     "output_type": "stream",
     "text": [
      "['nice' 'bad']\n",
      "[5 2 4 1 3]\n"
     ]
    }
   ],
   "source": [
    "# 5 different g values\n",
    "print(df['img_type'].unique())\n",
    "che = df[df['observer'] == 'Person 6']\n",
    "print(che['response'].unique())"
   ]
  },
  {
   "cell_type": "code",
   "execution_count": 88,
   "metadata": {},
   "outputs": [
    {
     "name": "stdout",
     "output_type": "stream",
     "text": [
      "['blur' 'compression']\n"
     ]
    }
   ],
   "source": [
    "# 15 different pictures\n",
    "print(df['distortion_type'].unique())"
   ]
  },
  {
   "cell_type": "code",
   "execution_count": 87,
   "metadata": {},
   "outputs": [
    {
     "name": "stdout",
     "output_type": "stream",
     "text": [
      "                  distortion_type  distortion_degree  response  observer\n",
      "img_type img_num                                                        \n",
      "bad      1                    150                150       150       150\n",
      "         2                    150                150       150       150\n",
      "         3                    150                150       150       150\n",
      "         4                    150                150       150       150\n",
      "         5                    150                150       150       150\n",
      "         6                    150                150       150       150\n",
      "         7                    150                150       150       150\n",
      "         8                    150                150       150       150\n",
      "         9                    150                150       150       150\n",
      "         10                   150                150       150       150\n",
      "         11                   150                150       150       150\n",
      "nice     1                    150                150       150       150\n",
      "         2                    150                150       150       150\n",
      "         3                    150                150       150       150\n",
      "         4                    150                150       150       150\n",
      "         5                    150                150       150       150\n",
      "         6                    150                150       150       150\n",
      "         7                    150                150       150       150\n",
      "         8                    150                150       150       150\n",
      "         9                    150                150       150       150\n",
      "         10                   150                150       150       150\n",
      "         11                   150                150       150       150\n",
      "22\n"
     ]
    }
   ],
   "source": [
    "# we expect 5x5=25 different rows of possible k, g combinations\n",
    "agg1 = df.groupby(['img_type', 'img_num']).count()\n",
    "\n",
    "print(agg1)\n",
    "print(len(agg1))"
   ]
  },
  {
   "cell_type": "code",
   "execution_count": 89,
   "metadata": {},
   "outputs": [],
   "source": [
    "# !! we only obtain 24 different rows.. \n",
    "# !! because k=1.0 and g=1.0 was not presented ...-> original?"
   ]
  },
  {
   "cell_type": "code",
   "execution_count": 94,
   "metadata": {},
   "outputs": [
    {
     "name": "stdout",
     "output_type": "stream",
     "text": [
      "44\n"
     ]
    }
   ],
   "source": [
    "# and 24 x 15 pictures = 360  different types of trials\n",
    "agg2 = df.groupby(['img_type', 'img_num', 'distortion_type']).count()\n",
    "print(len(agg2))"
   ]
  },
  {
   "cell_type": "code",
   "execution_count": 95,
   "metadata": {},
   "outputs": [
    {
     "name": "stdout",
     "output_type": "stream",
     "text": [
      "                                  distortion_degree  response  observer\n",
      "img_type img_num distortion_type                                       \n",
      "bad      1       blur                            75        75        75\n",
      "                 compression                     75        75        75\n",
      "         2       blur                            75        75        75\n",
      "                 compression                     75        75        75\n",
      "         3       blur                            75        75        75\n",
      "                 compression                     75        75        75\n",
      "         4       blur                            75        75        75\n",
      "                 compression                     75        75        75\n",
      "         5       blur                            75        75        75\n",
      "                 compression                     75        75        75\n",
      "         6       blur                            75        75        75\n",
      "                 compression                     75        75        75\n",
      "         7       blur                            75        75        75\n",
      "                 compression                     75        75        75\n",
      "         8       blur                            75        75        75\n",
      "                 compression                     75        75        75\n",
      "         9       blur                            75        75        75\n",
      "                 compression                     75        75        75\n",
      "         10      blur                            75        75        75\n",
      "                 compression                     75        75        75\n",
      "         11      blur                            75        75        75\n",
      "                 compression                     75        75        75\n",
      "nice     1       blur                            75        75        75\n",
      "                 compression                     75        75        75\n",
      "         2       blur                            75        75        75\n",
      "                 compression                     75        75        75\n",
      "         3       blur                            75        75        75\n",
      "                 compression                     75        75        75\n",
      "         4       blur                            75        75        75\n",
      "                 compression                     75        75        75\n",
      "         5       blur                            75        75        75\n",
      "                 compression                     75        75        75\n",
      "         6       blur                            75        75        75\n",
      "                 compression                     75        75        75\n",
      "         7       blur                            75        75        75\n",
      "                 compression                     75        75        75\n",
      "         8       blur                            75        75        75\n",
      "                 compression                     75        75        75\n",
      "         9       blur                            75        75        75\n",
      "                 compression                     75        75        75\n",
      "         10      blur                            75        75        75\n",
      "                 compression                     75        75        75\n",
      "         11      blur                            75        75        75\n",
      "                 compression                     75        75        75\n"
     ]
    }
   ],
   "source": [
    "# each of them with one entry\n",
    "print(agg2)"
   ]
  },
  {
   "cell_type": "markdown",
   "metadata": {},
   "source": [
    "## Visualizing data from about one image category\n"
   ]
  },
  {
   "cell_type": "code",
   "execution_count": 130,
   "metadata": {},
   "outputs": [],
   "source": [
    "# selecting data for only one picture\n",
    "picname = 'Person 3'\n",
    "d= df[df['observer'] == picname]\n"
   ]
  },
  {
   "cell_type": "code",
   "execution_count": 131,
   "metadata": {},
   "outputs": [
    {
     "data": {
      "text/html": [
       "<div>\n",
       "<style scoped>\n",
       "    .dataframe tbody tr th:only-of-type {\n",
       "        vertical-align: middle;\n",
       "    }\n",
       "\n",
       "    .dataframe tbody tr th {\n",
       "        vertical-align: top;\n",
       "    }\n",
       "\n",
       "    .dataframe thead th {\n",
       "        text-align: right;\n",
       "    }\n",
       "</style>\n",
       "<table border=\"1\" class=\"dataframe\">\n",
       "  <thead>\n",
       "    <tr style=\"text-align: right;\">\n",
       "      <th></th>\n",
       "      <th>img_num</th>\n",
       "      <th>img_type</th>\n",
       "      <th>distortion_type</th>\n",
       "      <th>distortion_degree</th>\n",
       "      <th>response</th>\n",
       "      <th>observer</th>\n",
       "    </tr>\n",
       "  </thead>\n",
       "  <tbody>\n",
       "    <tr>\n",
       "      <td>0</td>\n",
       "      <td>1</td>\n",
       "      <td>anziehend</td>\n",
       "      <td>compression</td>\n",
       "      <td>1</td>\n",
       "      <td>5</td>\n",
       "      <td>Person 3</td>\n",
       "    </tr>\n",
       "    <tr>\n",
       "      <td>1</td>\n",
       "      <td>3</td>\n",
       "      <td>anziehend</td>\n",
       "      <td>blur</td>\n",
       "      <td>1</td>\n",
       "      <td>5</td>\n",
       "      <td>Person 3</td>\n",
       "    </tr>\n",
       "    <tr>\n",
       "      <td>2</td>\n",
       "      <td>9</td>\n",
       "      <td>anziehend</td>\n",
       "      <td>blur</td>\n",
       "      <td>3</td>\n",
       "      <td>3</td>\n",
       "      <td>Person 3</td>\n",
       "    </tr>\n",
       "    <tr>\n",
       "      <td>3</td>\n",
       "      <td>11</td>\n",
       "      <td>anziehend</td>\n",
       "      <td>blur</td>\n",
       "      <td>4</td>\n",
       "      <td>4</td>\n",
       "      <td>Person 3</td>\n",
       "    </tr>\n",
       "    <tr>\n",
       "      <td>4</td>\n",
       "      <td>2</td>\n",
       "      <td>anziehend</td>\n",
       "      <td>compression</td>\n",
       "      <td>2</td>\n",
       "      <td>4</td>\n",
       "      <td>Person 3</td>\n",
       "    </tr>\n",
       "    <tr>\n",
       "      <td>...</td>\n",
       "      <td>...</td>\n",
       "      <td>...</td>\n",
       "      <td>...</td>\n",
       "      <td>...</td>\n",
       "      <td>...</td>\n",
       "      <td>...</td>\n",
       "    </tr>\n",
       "    <tr>\n",
       "      <td>215</td>\n",
       "      <td>10</td>\n",
       "      <td>abstoßend</td>\n",
       "      <td>compression</td>\n",
       "      <td>4</td>\n",
       "      <td>3</td>\n",
       "      <td>Person 3</td>\n",
       "    </tr>\n",
       "    <tr>\n",
       "      <td>216</td>\n",
       "      <td>2</td>\n",
       "      <td>anziehend</td>\n",
       "      <td>compression</td>\n",
       "      <td>4</td>\n",
       "      <td>2</td>\n",
       "      <td>Person 3</td>\n",
       "    </tr>\n",
       "    <tr>\n",
       "      <td>217</td>\n",
       "      <td>5</td>\n",
       "      <td>abstoßend</td>\n",
       "      <td>compression</td>\n",
       "      <td>3</td>\n",
       "      <td>2</td>\n",
       "      <td>Person 3</td>\n",
       "    </tr>\n",
       "    <tr>\n",
       "      <td>218</td>\n",
       "      <td>8</td>\n",
       "      <td>abstoßend</td>\n",
       "      <td>blur</td>\n",
       "      <td>1</td>\n",
       "      <td>4</td>\n",
       "      <td>Person 3</td>\n",
       "    </tr>\n",
       "    <tr>\n",
       "      <td>219</td>\n",
       "      <td>11</td>\n",
       "      <td>anziehend</td>\n",
       "      <td>blur</td>\n",
       "      <td>5</td>\n",
       "      <td>4</td>\n",
       "      <td>Person 3</td>\n",
       "    </tr>\n",
       "  </tbody>\n",
       "</table>\n",
       "<p>220 rows × 6 columns</p>\n",
       "</div>"
      ],
      "text/plain": [
       "     img_num   img_type distortion_type  distortion_degree  response  observer\n",
       "0          1  anziehend     compression                  1         5  Person 3\n",
       "1          3  anziehend            blur                  1         5  Person 3\n",
       "2          9  anziehend            blur                  3         3  Person 3\n",
       "3         11  anziehend            blur                  4         4  Person 3\n",
       "4          2  anziehend     compression                  2         4  Person 3\n",
       "..       ...        ...             ...                ...       ...       ...\n",
       "215       10  abstoßend     compression                  4         3  Person 3\n",
       "216        2  anziehend     compression                  4         2  Person 3\n",
       "217        5  abstoßend     compression                  3         2  Person 3\n",
       "218        8  abstoßend            blur                  1         4  Person 3\n",
       "219       11  anziehend            blur                  5         4  Person 3\n",
       "\n",
       "[220 rows x 6 columns]"
      ]
     },
     "execution_count": 131,
     "metadata": {},
     "output_type": "execute_result"
    }
   ],
   "source": [
    "d"
   ]
  },
  {
   "cell_type": "code",
   "execution_count": 112,
   "metadata": {},
   "outputs": [
    {
     "data": {
      "image/png": "[encoded data removed]",
      "text/plain": [
       "<Figure size 432x288 with 1 Axes>"
      ]
     },
     "metadata": {
      "needs_background": "light"
     },
     "output_type": "display_data"
    }
   ],
   "source": [
    "# distribution of quality values for this image category\n",
    "plt.hist(d['response'])\n",
    "plt.xlabel('Quality')\n",
    "plt.xlim((0, 5))\n",
    "plt.ylabel('Frequency')\n",
    "sns.despine()"
   ]
  },
  {
   "cell_type": "code",
   "execution_count": 128,
   "metadata": {},
   "outputs": [],
   "source": [
    "#### barplot aggregated by k and g\n",
    "picname = 'Person 6'\n",
    "d2 = df[df['observer'] == picname]\n",
    "\n",
    "#g.savefig('%s.pdf' % picname"
   ]
  },
  {
   "cell_type": "code",
   "execution_count": 132,
   "metadata": {},
   "outputs": [
    {
     "data": {
      "text/plain": [
       "<seaborn.axisgrid.FacetGrid at 0x220501a6688>"
      ]
     },
     "execution_count": 132,
     "metadata": {},
     "output_type": "execute_result"
    },
    {
     "data": {
      "image/png": "[encoded data removed]",
      "text/plain": [
       "<Figure size 866.775x360 with 2 Axes>"
      ]
     },
     "metadata": {
      "needs_background": "light"
     },
     "output_type": "display_data"
    }
   ],
   "source": [
    "#### barplot aggregated by k and g\n",
    "imt = sns.catplot(x='distortion_degree', y='response', data=d, hue='img_type', col='distortion_type',\n",
    "                kind='bar', ci='sd', \n",
    "                palette='Greens')\n",
    "imt.set_ylabels('Quality')\n",
    "imt.set_xlabels('distortion_degree')\n",
    "imt.set(ylim = (0, 5))\n",
    "#imt.savefig('allpictures_aggregated.pdf')"
   ]
  },
  {
   "cell_type": "code",
   "execution_count": 18,
   "metadata": {},
   "outputs": [
    {
     "data": {
      "text/plain": [
       "<seaborn.axisgrid.FacetGrid at 0x2204d1d5688>"
      ]
     },
     "execution_count": 18,
     "metadata": {},
     "output_type": "execute_result"
    },
    {
     "data": {
      "image/png": "[encoded data removed]",
      "text/plain": [
       "<Figure size 813.525x360 with 2 Axes>"
      ]
     },
     "metadata": {
      "needs_background": "light"
     },
     "output_type": "display_data"
    }
   ],
   "source": [
    "#### barplot aggregated by k and g\n",
    "g = sns.catplot(x='distortion_degree', y='response', data=d2, hue='img_type',\n",
    "                col='distortion_type', kind='bar', ci=95,\n",
    "                palette='Greens')\n",
    "g.set_ylabels('Quality')\n",
    "g.set_xlabels('img type')\n",
    "g.set(ylim = (0, 5))\n",
    "#g.savefig('%s.pdf' % picname)"
   ]
  },
  {
   "cell_type": "markdown",
   "metadata": {},
   "source": [
    "## Visualizing data from all pictures"
   ]
  },
  {
   "cell_type": "code",
   "execution_count": 21,
   "metadata": {},
   "outputs": [
    {
     "data": {
      "text/plain": [
       "<seaborn.axisgrid.FacetGrid at 0x29d12f4ef88>"
      ]
     },
     "execution_count": 21,
     "metadata": {},
     "output_type": "execute_result"
    },
    {
     "data": {
      "image/png": "[encoded data removed]",
      "text/plain": [
       "<Figure size 957.525x1440 with 15 Axes>"
      ]
     },
     "metadata": {
      "needs_background": "light"
     },
     "output_type": "display_data"
    }
   ],
   "source": [
    "# %%  Using small multiples to visualize data from all pictures in one figure \n",
    "g = sns.catplot(x='distortion_degree', y='response', data=df, hue='img_type',\n",
    "                col='observer', col_wrap = 3, kind='bar', ci='sd', height=4,\n",
    "                palette='Greens')\n",
    "g.set_ylabels('Quality')\n",
    "g.set_xlabels('img type')\n",
    "g.set_titles('{col_name}')\n",
    "g.set(ylim = (0, 5))\n",
    "#g.savefig('allpictures_in_different_panels.pdf')\n"
   ]
  },
  {
   "cell_type": "code",
   "execution_count": 129,
   "metadata": {},
   "outputs": [
    {
     "data": {
      "image/png": "[encoded data removed]",
      "text/plain": [
       "<Figure size 866.775x360 with 2 Axes>"
      ]
     },
     "metadata": {
      "needs_background": "light"
     },
     "output_type": "display_data"
    }
   ],
   "source": [
    "# %% collapsing all pictures into one visualization\n",
    "#fig, axs = plt.subplots(1,2, figsize=(16,6))\n",
    "imt = sns.catplot(x='distortion_degree', y='response', data=df, hue='img_type', col='distortion_type',\n",
    "                kind='bar', ci=95, errwidth=2,\n",
    "                palette='Greens')\n",
    "imt.set_ylabels('Quality')\n",
    "imt.set_xlabels('distortion_degree')\n",
    "imt.set(ylim = (0, 5))\n",
    "imt.savefig('allpictures_aggregated.pdf')\n",
    "\n"
   ]
  },
  {
   "cell_type": "code",
   "execution_count": 133,
   "metadata": {},
   "outputs": [
    {
     "data": {
      "image/png": "[encoded data removed]",
      "text/plain": [
       "<Figure size 866.775x360 with 2 Axes>"
      ]
     },
     "metadata": {
      "needs_background": "light"
     },
     "output_type": "display_data"
    }
   ],
   "source": [
    "imt = sns.catplot(x='distortion_degree', y='response', data=dfo, hue='img_type', col='distortion_type',\n",
    "                kind='bar', ci=95, errwidth=2,\n",
    "                palette='Greens')\n",
    "imt.set_ylabels('Quality')\n",
    "imt.set_xlabels('distortion_degree')\n",
    "imt.set(ylim = (0, 5))\n",
    "imt.savefig('allpictures_aggregated.pdf')\n"
   ]
  },
  {
   "cell_type": "markdown",
   "metadata": {},
   "source": [
    "## Some statistical analysis"
   ]
  },
  {
   "cell_type": "code",
   "execution_count": 134,
   "metadata": {},
   "outputs": [
    {
     "data": {
      "text/html": [
       "<div>\n",
       "<style scoped>\n",
       "    .dataframe tbody tr th:only-of-type {\n",
       "        vertical-align: middle;\n",
       "    }\n",
       "\n",
       "    .dataframe tbody tr th {\n",
       "        vertical-align: top;\n",
       "    }\n",
       "\n",
       "    .dataframe thead th {\n",
       "        text-align: right;\n",
       "    }\n",
       "</style>\n",
       "<table border=\"1\" class=\"dataframe\">\n",
       "  <thead>\n",
       "    <tr style=\"text-align: right;\">\n",
       "      <th></th>\n",
       "      <th>img_num</th>\n",
       "      <th>img_type</th>\n",
       "      <th>distortion_type</th>\n",
       "      <th>distortion_degree</th>\n",
       "      <th>response</th>\n",
       "      <th>observer</th>\n",
       "    </tr>\n",
       "  </thead>\n",
       "  <tbody>\n",
       "    <tr>\n",
       "      <td>0</td>\n",
       "      <td>11</td>\n",
       "      <td>anziehend</td>\n",
       "      <td>blur</td>\n",
       "      <td>3</td>\n",
       "      <td>4</td>\n",
       "      <td>Person 1</td>\n",
       "    </tr>\n",
       "    <tr>\n",
       "      <td>1</td>\n",
       "      <td>5</td>\n",
       "      <td>anziehend</td>\n",
       "      <td>blur</td>\n",
       "      <td>3</td>\n",
       "      <td>4</td>\n",
       "      <td>Person 1</td>\n",
       "    </tr>\n",
       "    <tr>\n",
       "      <td>2</td>\n",
       "      <td>9</td>\n",
       "      <td>anziehend</td>\n",
       "      <td>blur</td>\n",
       "      <td>1</td>\n",
       "      <td>5</td>\n",
       "      <td>Person 1</td>\n",
       "    </tr>\n",
       "    <tr>\n",
       "      <td>3</td>\n",
       "      <td>3</td>\n",
       "      <td>abstoßend</td>\n",
       "      <td>blur</td>\n",
       "      <td>2</td>\n",
       "      <td>4</td>\n",
       "      <td>Person 1</td>\n",
       "    </tr>\n",
       "    <tr>\n",
       "      <td>5</td>\n",
       "      <td>5</td>\n",
       "      <td>abstoßend</td>\n",
       "      <td>compression</td>\n",
       "      <td>4</td>\n",
       "      <td>2</td>\n",
       "      <td>Person 1</td>\n",
       "    </tr>\n",
       "    <tr>\n",
       "      <td>...</td>\n",
       "      <td>...</td>\n",
       "      <td>...</td>\n",
       "      <td>...</td>\n",
       "      <td>...</td>\n",
       "      <td>...</td>\n",
       "      <td>...</td>\n",
       "    </tr>\n",
       "    <tr>\n",
       "      <td>214</td>\n",
       "      <td>11</td>\n",
       "      <td>anziehend</td>\n",
       "      <td>compression</td>\n",
       "      <td>4</td>\n",
       "      <td>3</td>\n",
       "      <td>Person 15</td>\n",
       "    </tr>\n",
       "    <tr>\n",
       "      <td>216</td>\n",
       "      <td>1</td>\n",
       "      <td>abstoßend</td>\n",
       "      <td>blur</td>\n",
       "      <td>4</td>\n",
       "      <td>3</td>\n",
       "      <td>Person 15</td>\n",
       "    </tr>\n",
       "    <tr>\n",
       "      <td>217</td>\n",
       "      <td>3</td>\n",
       "      <td>anziehend</td>\n",
       "      <td>blur</td>\n",
       "      <td>3</td>\n",
       "      <td>2</td>\n",
       "      <td>Person 15</td>\n",
       "    </tr>\n",
       "    <tr>\n",
       "      <td>218</td>\n",
       "      <td>9</td>\n",
       "      <td>abstoßend</td>\n",
       "      <td>blur</td>\n",
       "      <td>2</td>\n",
       "      <td>2</td>\n",
       "      <td>Person 15</td>\n",
       "    </tr>\n",
       "    <tr>\n",
       "      <td>219</td>\n",
       "      <td>1</td>\n",
       "      <td>anziehend</td>\n",
       "      <td>blur</td>\n",
       "      <td>5</td>\n",
       "      <td>3</td>\n",
       "      <td>Person 15</td>\n",
       "    </tr>\n",
       "  </tbody>\n",
       "</table>\n",
       "<p>2380 rows × 6 columns</p>\n",
       "</div>"
      ],
      "text/plain": [
       "     img_num   img_type distortion_type  distortion_degree  response  \\\n",
       "0         11  anziehend            blur                  3         4   \n",
       "1          5  anziehend            blur                  3         4   \n",
       "2          9  anziehend            blur                  1         5   \n",
       "3          3  abstoßend            blur                  2         4   \n",
       "5          5  abstoßend     compression                  4         2   \n",
       "..       ...        ...             ...                ...       ...   \n",
       "214       11  anziehend     compression                  4         3   \n",
       "216        1  abstoßend            blur                  4         3   \n",
       "217        3  anziehend            blur                  3         2   \n",
       "218        9  abstoßend            blur                  2         2   \n",
       "219        1  anziehend            blur                  5         3   \n",
       "\n",
       "      observer  \n",
       "0     Person 1  \n",
       "1     Person 1  \n",
       "2     Person 1  \n",
       "3     Person 1  \n",
       "5     Person 1  \n",
       "..         ...  \n",
       "214  Person 15  \n",
       "216  Person 15  \n",
       "217  Person 15  \n",
       "218  Person 15  \n",
       "219  Person 15  \n",
       "\n",
       "[2380 rows x 6 columns]"
      ]
     },
     "execution_count": 134,
     "metadata": {},
     "output_type": "execute_result"
    }
   ],
   "source": [
    "# we load scipy\n",
    "import scipy\n",
    "dfo"
   ]
  },
  {
   "cell_type": "markdown",
   "metadata": {},
   "source": [
    "### t-test \n",
    "With a t-test we can test whether the values of two groups have the same mean. The null-hypothesis states that the mean difference between the two samples is zero. \n",
    "The test gives us a 'p-value', the conditional probability for the observed difference between means under the assumption (condition) that the null-hypothesis is true. When the p-value is smaller than a criterion value (0.05 for 95 % confidence by convention), we say we *reject* the null-hypothesis. In other words, a p value <.05 indicates that the difference between the two samples is unlikely to be truly zero."
   ]
  },
  {
   "cell_type": "code",
   "execution_count": 116,
   "metadata": {},
   "outputs": [
    {
     "data": {
      "text/html": [
       "<div>\n",
       "<style scoped>\n",
       "    .dataframe tbody tr th:only-of-type {\n",
       "        vertical-align: middle;\n",
       "    }\n",
       "\n",
       "    .dataframe tbody tr th {\n",
       "        vertical-align: top;\n",
       "    }\n",
       "\n",
       "    .dataframe thead th {\n",
       "        text-align: right;\n",
       "    }\n",
       "</style>\n",
       "<table border=\"1\" class=\"dataframe\">\n",
       "  <thead>\n",
       "    <tr style=\"text-align: right;\">\n",
       "      <th></th>\n",
       "      <th>img_num</th>\n",
       "      <th>img_type</th>\n",
       "      <th>distortion_type</th>\n",
       "      <th>distortion_degree</th>\n",
       "      <th>response</th>\n",
       "      <th>observer</th>\n",
       "    </tr>\n",
       "  </thead>\n",
       "  <tbody>\n",
       "    <tr>\n",
       "      <td>3</td>\n",
       "      <td>3</td>\n",
       "      <td>bad</td>\n",
       "      <td>blur</td>\n",
       "      <td>2</td>\n",
       "      <td>4</td>\n",
       "      <td>Person 1</td>\n",
       "    </tr>\n",
       "    <tr>\n",
       "      <td>5</td>\n",
       "      <td>5</td>\n",
       "      <td>bad</td>\n",
       "      <td>compression</td>\n",
       "      <td>4</td>\n",
       "      <td>2</td>\n",
       "      <td>Person 1</td>\n",
       "    </tr>\n",
       "    <tr>\n",
       "      <td>9</td>\n",
       "      <td>1</td>\n",
       "      <td>bad</td>\n",
       "      <td>blur</td>\n",
       "      <td>5</td>\n",
       "      <td>3</td>\n",
       "      <td>Person 1</td>\n",
       "    </tr>\n",
       "    <tr>\n",
       "      <td>10</td>\n",
       "      <td>10</td>\n",
       "      <td>bad</td>\n",
       "      <td>compression</td>\n",
       "      <td>2</td>\n",
       "      <td>4</td>\n",
       "      <td>Person 1</td>\n",
       "    </tr>\n",
       "    <tr>\n",
       "      <td>12</td>\n",
       "      <td>11</td>\n",
       "      <td>bad</td>\n",
       "      <td>compression</td>\n",
       "      <td>4</td>\n",
       "      <td>3</td>\n",
       "      <td>Person 1</td>\n",
       "    </tr>\n",
       "    <tr>\n",
       "      <td>...</td>\n",
       "      <td>...</td>\n",
       "      <td>...</td>\n",
       "      <td>...</td>\n",
       "      <td>...</td>\n",
       "      <td>...</td>\n",
       "      <td>...</td>\n",
       "    </tr>\n",
       "    <tr>\n",
       "      <td>210</td>\n",
       "      <td>8</td>\n",
       "      <td>bad</td>\n",
       "      <td>blur</td>\n",
       "      <td>5</td>\n",
       "      <td>2</td>\n",
       "      <td>Person 15</td>\n",
       "    </tr>\n",
       "    <tr>\n",
       "      <td>212</td>\n",
       "      <td>9</td>\n",
       "      <td>bad</td>\n",
       "      <td>blur</td>\n",
       "      <td>1</td>\n",
       "      <td>3</td>\n",
       "      <td>Person 15</td>\n",
       "    </tr>\n",
       "    <tr>\n",
       "      <td>215</td>\n",
       "      <td>10</td>\n",
       "      <td>bad</td>\n",
       "      <td>compression</td>\n",
       "      <td>5</td>\n",
       "      <td>1</td>\n",
       "      <td>Person 15</td>\n",
       "    </tr>\n",
       "    <tr>\n",
       "      <td>216</td>\n",
       "      <td>1</td>\n",
       "      <td>bad</td>\n",
       "      <td>blur</td>\n",
       "      <td>4</td>\n",
       "      <td>3</td>\n",
       "      <td>Person 15</td>\n",
       "    </tr>\n",
       "    <tr>\n",
       "      <td>218</td>\n",
       "      <td>9</td>\n",
       "      <td>bad</td>\n",
       "      <td>blur</td>\n",
       "      <td>2</td>\n",
       "      <td>2</td>\n",
       "      <td>Person 15</td>\n",
       "    </tr>\n",
       "  </tbody>\n",
       "</table>\n",
       "<p>1650 rows × 6 columns</p>\n",
       "</div>"
      ],
      "text/plain": [
       "     img_num img_type distortion_type  distortion_degree  response   observer\n",
       "3          3      bad            blur                  2         4   Person 1\n",
       "5          5      bad     compression                  4         2   Person 1\n",
       "9          1      bad            blur                  5         3   Person 1\n",
       "10        10      bad     compression                  2         4   Person 1\n",
       "12        11      bad     compression                  4         3   Person 1\n",
       "..       ...      ...             ...                ...       ...        ...\n",
       "210        8      bad            blur                  5         2  Person 15\n",
       "212        9      bad            blur                  1         3  Person 15\n",
       "215       10      bad     compression                  5         1  Person 15\n",
       "216        1      bad            blur                  4         3  Person 15\n",
       "218        9      bad            blur                  2         2  Person 15\n",
       "\n",
       "[1650 rows x 6 columns]"
      ]
     },
     "execution_count": 116,
     "metadata": {},
     "output_type": "execute_result"
    }
   ],
   "source": [
    "# we select the data we want to compare. We select the data for k=0.5 and k=1.5 \n",
    "# and assign them to two vectors, y1 and y2\n",
    "k1 = df[df['img_type']=='bad']\n",
    "k2 = df[df['img_type']=='nice']\n",
    "\n",
    "k1\n",
    "#k1['quality_value']\n"
   ]
  },
  {
   "cell_type": "code",
   "execution_count": 117,
   "metadata": {},
   "outputs": [
    {
     "name": "stdout",
     "output_type": "stream",
     "text": [
      "p-value: 3.7215868556386476e-153\n"
     ]
    }
   ],
   "source": [
    "# we call a t-test for two independent samples \n",
    "tstat, pvalue = scipy.stats.ttest_ind(k1['response'], \n",
    "                                      k2['response']) \n",
    "\n",
    "print('p-value:', pvalue)"
   ]
  },
  {
   "cell_type": "markdown",
   "metadata": {},
   "source": [
    "The p-value is << 0.05, so we reject the null hypothesis and say that the difference is significant."
   ]
  },
  {
   "cell_type": "markdown",
   "metadata": {},
   "source": [
    "### ANOVA\n",
    "If we want to compare the means of more than 2 groups, we need to perform an Analysis of Variance (ANOVA). The null-hypothesis in the ANOVA states that there is no difference between the means of the groups. A p-value less than 0.05 (at 95 %) rejects this general hypothesis without indicating which groups are different from one another."
   ]
  },
  {
   "cell_type": "code",
   "execution_count": 135,
   "metadata": {},
   "outputs": [],
   "source": [
    "# for an ANOVA we need the python module statsmodels (statistical models)\n",
    "import statsmodels.api as sm  \n",
    "\n",
    "# the particular function we need is called ols()\n",
    "# (ols: ordinary least squares, that is the type of fitting)\n",
    "from statsmodels.formula.api import ols   "
   ]
  },
  {
   "cell_type": "code",
   "execution_count": 119,
   "metadata": {},
   "outputs": [
    {
     "data": {
      "text/html": [
       "<div>\n",
       "<style scoped>\n",
       "    .dataframe tbody tr th:only-of-type {\n",
       "        vertical-align: middle;\n",
       "    }\n",
       "\n",
       "    .dataframe tbody tr th {\n",
       "        vertical-align: top;\n",
       "    }\n",
       "\n",
       "    .dataframe thead th {\n",
       "        text-align: right;\n",
       "    }\n",
       "</style>\n",
       "<table border=\"1\" class=\"dataframe\">\n",
       "  <thead>\n",
       "    <tr style=\"text-align: right;\">\n",
       "      <th></th>\n",
       "      <th>df</th>\n",
       "      <th>sum_sq</th>\n",
       "      <th>mean_sq</th>\n",
       "      <th>F</th>\n",
       "      <th>PR(&gt;F)</th>\n",
       "    </tr>\n",
       "  </thead>\n",
       "  <tbody>\n",
       "    <tr>\n",
       "      <td>C(img_type)</td>\n",
       "      <td>1.0</td>\n",
       "      <td>1259.854848</td>\n",
       "      <td>1259.854848</td>\n",
       "      <td>785.538544</td>\n",
       "      <td>3.167185e-155</td>\n",
       "    </tr>\n",
       "    <tr>\n",
       "      <td>C(distortion_type)</td>\n",
       "      <td>1.0</td>\n",
       "      <td>82.254848</td>\n",
       "      <td>82.254848</td>\n",
       "      <td>51.287142</td>\n",
       "      <td>9.795818e-13</td>\n",
       "    </tr>\n",
       "    <tr>\n",
       "      <td>Residual</td>\n",
       "      <td>3297.0</td>\n",
       "      <td>5287.762727</td>\n",
       "      <td>1.603810</td>\n",
       "      <td>NaN</td>\n",
       "      <td>NaN</td>\n",
       "    </tr>\n",
       "  </tbody>\n",
       "</table>\n",
       "</div>"
      ],
      "text/plain": [
       "                        df       sum_sq      mean_sq           F  \\\n",
       "C(img_type)            1.0  1259.854848  1259.854848  785.538544   \n",
       "C(distortion_type)     1.0    82.254848    82.254848   51.287142   \n",
       "Residual            3297.0  5287.762727     1.603810         NaN   \n",
       "\n",
       "                           PR(>F)  \n",
       "C(img_type)         3.167185e-155  \n",
       "C(distortion_type)   9.795818e-13  \n",
       "Residual                      NaN  "
      ]
     },
     "execution_count": 119,
     "metadata": {},
     "output_type": "execute_result"
    }
   ],
   "source": [
    "# we need to set up a 'formula' for the model. This formula is similar to the syntax in R.\n",
    "\n",
    "# on the left side of the tilde we put the dependent variable\n",
    "# on the right side of the tilde we state the independent variables \n",
    "# the C( )  indicates that we consider the variable as a categorical variable (and not continuous)\n",
    "# the sign + is not a sum, it is to indicate more than one variable.\n",
    "# the sign * is not a multiplication, it is to indicate we want to also model interactions between the variables\n",
    "\n",
    "# we call ols() passing the model 'formula'\n",
    "mod = ols('response ~ C(img_type) + C(distortion_type)', data=df)\n",
    "\n",
    "# we fit the model\n",
    "fit = mod.fit()\n",
    "\n",
    "# we show the ANOVA table\n",
    "sm.stats.anova_lm(fit)"
   ]
  },
  {
   "cell_type": "markdown",
   "metadata": {},
   "source": [
    "The ANOVA table shows that for both variables k and g there is a signifficant effect (p-values < 0.05 for 95 % confidence). There is also a signifficant interaction term ('C(k):C(g)').\n",
    "\n",
    "\n",
    "The p-values reject the null hypothesis, meaning that there is a significant difference between the means. But which ones? To answer that we need to perform a so-called post-hoc test. "
   ]
  },
  {
   "cell_type": "markdown",
   "metadata": {},
   "source": [
    "Post-hoc tests do all the pairwise comparisons (like a t-test), but correcting the p-value for multiple comparisons. This correction is needed because of statistical reasons. The risk of not correcting is that we will be detecting differences that are not there. (https://en.wikipedia.org/wiki/Multiple_comparisons_problem)."
   ]
  },
  {
   "cell_type": "code",
   "execution_count": 137,
   "metadata": {
    "scrolled": true
   },
   "outputs": [
    {
     "data": {
      "text/html": [
       "<table class=\"simpletable\">\n",
       "<caption>Test Multiple Comparison ttest_ind \n",
       "FWER=0.05 method=bonf\n",
       "alphacSidak=0.05, alphacBonf=0.050</caption>\n",
       "<tr>\n",
       "   <th>group1</th>    <th>group2</th>     <th>stat</th>   <th>pval</th> <th>pval_corr</th> <th>reject</th>\n",
       "</tr>\n",
       "<tr>\n",
       "  <td>abstoßend</td> <td>anziehend</td> <td>-27.8162</td>  <td>0.0</td>    <td>0.0</td>     <td>True</td> \n",
       "</tr>\n",
       "</table>"
      ],
      "text/plain": [
       "<class 'statsmodels.iolib.table.SimpleTable'>"
      ]
     },
     "execution_count": 137,
     "metadata": {},
     "output_type": "execute_result"
    }
   ],
   "source": [
    "# perform multiple pairwise comparison\n",
    "from statsmodels.stats.multicomp import MultiComparison\n",
    "\n",
    "MultiComp = MultiComparison(df['response'],\n",
    "                             df['img_type'])\n",
    "\n",
    "# the first argument is the test we will do, a t-test (same function as above)\n",
    "# the second argument is the type of correction, in this case Bonferroni correction.\n",
    "comp = MultiComp.allpairtest(scipy.stats.ttest_ind, method='bonf')\n",
    "comp[0]\n"
   ]
  },
  {
   "cell_type": "markdown",
   "metadata": {},
   "source": [
    "The table shows all comparisons for k. The rightmost column says whether there is a significant difference between the groups tested (reject = True)."
   ]
  }
 ],
 "metadata": {
  "kernelspec": {
   "display_name": "Python 3",
   "language": "python",
   "name": "python3"
  },
  "language_info": {
   "codemirror_mode": {
    "name": "ipython",
    "version": 3
   },
   "file_extension": ".py",
   "mimetype": "text/x-python",
   "name": "python",
   "nbconvert_exporter": "python",
   "pygments_lexer": "ipython3",
   "version": "3.7.4"
  }
 },
 "nbformat": 4,
 "nbformat_minor": 5
}
