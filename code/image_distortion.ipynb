{
 "cells": [
  {
   "cell_type": "markdown",
   "metadata": {},
   "source": [
    "## Image distortions\n",
    "### Daten: Gruppe von Erik, Fung, Isa\n",
    "### *Seminar Visuelle Wahrnehmung beim Menschen und Bildqualität - SoSe 21* - G. Aguilar, M. Maertens\n"
   ]
  },
  {
   "cell_type": "code",
   "execution_count": 19,
   "metadata": {},
   "outputs": [],
   "source": [
    "import numpy as np\n",
    "import matplotlib.pyplot as plt\n",
    "from os import walk\n",
    "\n",
    "# Pillow library, to manipulate images\n",
    "from PIL import Image, ImageFilter\n"
   ]
  },
  {
   "cell_type": "markdown",
   "metadata": {},
   "source": [
    "### Helper functions"
   ]
  },
  {
   "cell_type": "code",
   "execution_count": 1,
   "metadata": {},
   "outputs": [],
   "source": [
    "\n",
    "# showing images\n",
    "def show_2ims(im, im_b):\n",
    "    plt.figure()\n",
    "    plt.subplot(1,2,1)\n",
    "    plt.imshow(im, cmap='gray', vmin=0, vmax=255)\n",
    "\n",
    "    plt.subplot(1,2,2)\n",
    "    plt.imshow(im_b, cmap='gray', vmin=0, vmax=255)\n",
    "    \n",
    "    print('MSE', mse(im, im_b))\n",
    "    \n",
    "#show_2ims(im, im_b)"
   ]
  },
  {
   "cell_type": "code",
   "execution_count": 6,
   "metadata": {},
   "outputs": [],
   "source": [
    "def show_2cuts(im1, im2):\n",
    "    \n",
    "    m = int(im.shape[0]/2) # middle row\n",
    "\n",
    "    cut1 = im1[m, :]\n",
    "    cut2 = im2[m, :]\n",
    "\n",
    "    plt.figure()\n",
    "    plt.plot(cut1, c='k', linewidth=1)\n",
    "    plt.plot(cut2, c='b', linewidth=1)\n"
   ]
  },
  {
   "cell_type": "markdown",
   "metadata": {},
   "source": [
    "### Manipulation d. impulse noise contamination"
   ]
  },
  {
   "cell_type": "code",
   "execution_count": 7,
   "metadata": {},
   "outputs": [],
   "source": [
    "# we first make a copy of im\n",
    "\n",
    "def noise(im_n, name, degree):\n",
    "    \n",
    "    im = np.array(im_n)\n",
    "    im_d = np.copy(im)\n",
    "    Nx = im.shape[0]\n",
    "    Ny = im.shape[1]\n",
    "    # number of pixels we want to manipulate\n",
    "    #m = 38000\n",
    "    m = int(Nx*Ny*degree)\n",
    "\n",
    "    # take a random sample (without replacement) of size NxN out of number of pixels  \n",
    "    spots_x = np.random.choice(range(Nx), m)\n",
    "    spots_y = np.random.choice(range(Ny), m)\n",
    "\n",
    "    # for each pixel we want to change\n",
    "    for i in range(m):\n",
    "        # we randomly assign either 0 (black) or 255 (white)\n",
    "        im_d[spots_x[i], spots_y[i]] = np.random.randint(2)*255\n",
    "\n",
    "    index = name.find('.')\n",
    "    f = name[:index] + '_noise_' + str(degree) + name[index:]\n",
    "    Image.fromarray(im_d).save('images/noise/'+ f, 'jpeg')\n",
    "    return im_d\n",
    "\n",
    "#im_n = noise(im, name,0.01)\n",
    "#show_2ims(im, im_n)\n",
    "\n",
    "#show_2cuts(im, im_d)\n"
   ]
  },
  {
   "cell_type": "markdown",
   "metadata": {},
   "source": [
    "### Manipulation f. blurring"
   ]
  },
  {
   "cell_type": "code",
   "execution_count": 8,
   "metadata": {},
   "outputs": [],
   "source": [
    "# we blur the image with gaussian filter. Implemented alread in scipy.\n",
    "# sigma is the width of the gaussian filter\n",
    "from scipy import ndimage\n",
    "\n",
    "def blur(im, name, degree):\n",
    "\n",
    "    global blu\n",
    "    img = im.filter(ImageFilter.GaussianBlur(degree))\n",
    "    im_b = np.array(img)\n",
    "    index = name.find('.')\n",
    "    f = name[:index] + '_blur_' + str(blu) + name[index:]\n",
    "    Image.fromarray(im_b).save('images/blur/'+ f, 'jpeg')\n",
    "    blu = blu + 1\n",
    "    if blu > 5:\n",
    "        blu = 1\n",
    "    \n",
    "    return im_b\n",
    "\n",
    "#show_2ims(orig, blur(orig, name, 2))\n",
    "\n",
    "#show_2cuts(im, im_f)\n"
   ]
  },
  {
   "cell_type": "markdown",
   "metadata": {},
   "source": [
    "### Manipulation g. JPEG compression"
   ]
  },
  {
   "cell_type": "code",
   "execution_count": 9,
   "metadata": {},
   "outputs": [],
   "source": [
    "# we save the image in very bad quality as JPG. JPEG Artifacts clearly appear. \n",
    "#Image.fromarray(im).convert('L').save('einstein_tmp.jpg', 'jpeg', quality=4)\n",
    "def compress(im, name, degree, count):\n",
    "    global com\n",
    "    im_b = np.array(im)\n",
    "    \n",
    "    index = name.find('.')\n",
    "    f = name[:index] + '_compression_' + str(count) + name[index:]\n",
    "    Image.fromarray(im_b).save('images/compression/'+ f, 'jpeg', quality=degree)\n",
    "    im_g = Image.open('images/compression/'+ f)#.convert('L')\n",
    "    im_g = np.array(im_g)\n",
    "    return im_g\n",
    "    \n",
    "# read the JPG image\n",
    "\n",
    "\n",
    "#show_2ims(orig, compress(orig, name, 5))\n",
    "\n",
    "#show_2cuts(im, im_g)"
   ]
  },
  {
   "cell_type": "markdown",
   "metadata": {},
   "source": [
    "## Process all images"
   ]
  },
  {
   "cell_type": "code",
   "execution_count": 20,
   "metadata": {},
   "outputs": [
    {
     "name": "stdout",
     "output_type": "stream",
     "text": [
      "done\n"
     ]
    }
   ],
   "source": [
    "pathList = ['images/nice/', 'images/bad/']\n",
    "noises = [0, 0.1,0.2,0.3,0.4, 0.5]\n",
    "compressions = [1,5,7,14,40]\n",
    "blurs = [4,3,2,1,0.2]\n",
    "\n",
    "def process(paths):\n",
    "    \n",
    "    for path in paths:\n",
    "        _, _, filenames = next(walk(path), (None, None, []))\n",
    "        #filenames = list(map(lambda x: x.split('_')[0], filenames))\n",
    "        #filenames.sort()\n",
    "        for file in filenames:\n",
    "            im_orig = Image.open(path + file)#.convert('L')\n",
    "\n",
    "            # converting it to a numpy array. numpy arrays are easier to manipulate \n",
    "    \n",
    "            #for n in noises:\n",
    "                #noise(im_orig, file, n)\n",
    "            for i in range(len(blurs)):\n",
    "                blur(im_orig, file, blurs[i], i)\n",
    "            for j in range(len(compressions)):\n",
    "                compress(im_orig, file, compressions[j], j)\n",
    "    print('done')\n",
    "    #print(filenames)\n",
    "    \n",
    "\n",
    "process(pathList)"
   ]
  },
  {
   "cell_type": "code",
   "execution_count": 16,
   "metadata": {},
   "outputs": [],
   "source": [
    "## END"
   ]
  }
 ],
 "metadata": {
  "kernelspec": {
   "display_name": "Python 3",
   "language": "python",
   "name": "python3"
  },
  "language_info": {
   "codemirror_mode": {
    "name": "ipython",
    "version": 3
   },
   "file_extension": ".py",
   "mimetype": "text/x-python",
   "name": "python",
   "nbconvert_exporter": "python",
   "pygments_lexer": "ipython3",
   "version": "3.7.4"
  },
  "pycharm": {
   "stem_cell": {
    "cell_type": "raw",
    "source": [],
    "metadata": {
     "collapsed": false
    }
   }
  }
 },
 "nbformat": 4,
 "nbformat_minor": 4
}
